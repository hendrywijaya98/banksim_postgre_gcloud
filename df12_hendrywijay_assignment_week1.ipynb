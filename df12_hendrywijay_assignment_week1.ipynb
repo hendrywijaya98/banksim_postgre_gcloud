{
 "cells": [
  {
   "cell_type": "code",
   "execution_count": 1,
   "metadata": {},
   "outputs": [],
   "source": [
    "import pandas as pd\n",
    "import psycopg2\n",
    "\n",
    "import warnings\n",
    "warnings.filterwarnings(\"ignore\", category=FutureWarning)\n",
    "warnings.filterwarnings(\"ignore\", category=UserWarning)"
   ]
  },
  {
   "cell_type": "code",
   "execution_count": 2,
   "metadata": {},
   "outputs": [],
   "source": [
    "CONNECT_DB = \"host='localhost' port='5432' dbname='banksim_artificial' user='cloud_user' password='cloud_user'\""
   ]
  },
  {
   "cell_type": "markdown",
   "metadata": {},
   "source": [
    "kesamaaan table dan value dari kedua table\n",
    "- source = customer\n",
    "- target = merchant"
   ]
  },
  {
   "cell_type": "code",
   "execution_count": 3,
   "metadata": {},
   "outputs": [],
   "source": [
    "# query for create table tips\n",
    "def create_new_table(create_table_query):\n",
    "    # cxn=None\n",
    "    try:\n",
    "        # Make connection to db\n",
    "        cxn = psycopg2.connect(CONNECT_DB)\n",
    "\n",
    "        # Create a cursor to db\n",
    "        cur = cxn.cursor()\n",
    "        \n",
    "        # Send sql query to request\n",
    "        cur.execute(create_table_query)\n",
    "        records = cxn.commit()\n",
    "    except (Exception, psycopg2.Error) as error :\n",
    "        print (\"Error while connecting to PostgreSQL\", error)\n",
    "    # except is when query failed run because failed to connect the postgresql\n",
    "\n",
    "    finally:\n",
    "        #closing database connection.\n",
    "        if(cxn):\n",
    "            cur.close()\n",
    "            cxn.close()\n",
    "            print(\"PostgreSQL connection is closed\")\n",
    "        elif(error == 'relation \"tips\" already exists'):\n",
    "            cur.close()\n",
    "            cxn.close()\n",
    "            records = error\n",
    "\n",
    "    # di relational database jumlah koneksi dibatasi, maka tidak bisa dibuka terus-menerus\n",
    "    # begitu query selesai, koneksi harus di tutup supaya tidak overqueue\n",
    "    print(f'Records:\\n {records}')"
   ]
  },
  {
   "cell_type": "code",
   "execution_count": 16,
   "metadata": {},
   "outputs": [
    {
     "name": "stdout",
     "output_type": "stream",
     "text": [
      "PostgreSQL connection is closed\n",
      "Records:\n",
      " None\n"
     ]
    }
   ],
   "source": [
    "query_first_table = '''CREATE TABLE bsNet140513 (\n",
    "\tSource VARCHAR(20),\n",
    "\tTarget VARCHAR(20),\n",
    "\tWeight NUMERIC(10,2),\n",
    "\ttypeTrans VARCHAR(50),\n",
    "\tfraud INTEGER\n",
    ");'''\n",
    "\n",
    "first_table = create_new_table(query_first_table)"
   ]
  },
  {
   "cell_type": "code",
   "execution_count": 5,
   "metadata": {},
   "outputs": [
    {
     "name": "stdout",
     "output_type": "stream",
     "text": [
      "PostgreSQL connection is closed\n",
      "Records:\n",
      " None\n"
     ]
    }
   ],
   "source": [
    "query_second_table = '''CREATE TABLE bs140513(\n",
    "\tstep INTEGER,\n",
    "\tcustomer VARCHAR(20),\n",
    "\tage VARCHAR(2),\n",
    "\tgender VARCHAR(1),\n",
    "\tzipcodeOri VARCHAR(10),\n",
    "\tmerchant VARCHAR(20),\n",
    "\tzipMerchant VARCHAR(10),\n",
    "\tcategory VARCHAR(50),\n",
    "\tamount NUMERIC(10,2),\n",
    "\tfraud INTEGER\n",
    ");'''\n",
    "\n",
    "second_table = create_new_table(query_second_table)"
   ]
  },
  {
   "cell_type": "code",
   "execution_count": 6,
   "metadata": {},
   "outputs": [],
   "source": [
    "# insert_data_table('table_data.csv', 'table_ondb')\n",
    "def insert_data_table(data_csv, table_in_database):\n",
    "    try:\n",
    "        # Make connection to db\n",
    "        cxn = psycopg2.connect(CONNECT_DB)\n",
    "        \n",
    "        # Create a cursor to db\n",
    "        cur = cxn.cursor()\n",
    "        \n",
    "        # open csv file on tips.csv to process the csv file\n",
    "        with open(data_csv, 'r') as f:\n",
    "            # skip first row, header row\n",
    "            next(f)\n",
    "            cur.copy_from(f, table_in_database, sep=\",\")\n",
    "            cxn.commit()\n",
    "\n",
    "    except (Exception, psycopg2.Error) as error :\n",
    "        print (\"Error while connecting to PostgreSQL\", error)\n",
    "        \n",
    "    finally:\n",
    "        #closing database connection.\n",
    "        if(cxn):\n",
    "            cur.close()\n",
    "            cxn.close()\n",
    "            print(\"PostgreSQL connection is closed\")"
   ]
  },
  {
   "cell_type": "markdown",
   "metadata": {},
   "source": [
    "- DATABASE `banksim_artificial`\n",
    "- USER `cloud_user`\n",
    "- PASSWORD `'cloud_user'`\n",
    "\n",
    "`GRANT ALL PRIVILEGES ON DATABASE banksim_artificial TO cloud_user;`\n",
    "\n",
    "`\\c banksim_artificial postgres`\n",
    "\n",
    "`GRANT ALL ON SCHEMA public TO cloud_user;`"
   ]
  },
  {
   "cell_type": "code",
   "execution_count": 17,
   "metadata": {},
   "outputs": [
    {
     "name": "stdout",
     "output_type": "stream",
     "text": [
      "PostgreSQL connection is closed\n"
     ]
    }
   ],
   "source": [
    "insert_data_table('bs140513_032310.csv','bs140513')\n",
    "insert_data_table('bsNET140513_032310.csv', 'bsnet140513')"
   ]
  },
  {
   "cell_type": "code",
   "execution_count": 7,
   "metadata": {},
   "outputs": [],
   "source": [
    "def fetch_query(sql_query):\n",
    "    try:\n",
    "        # connect to db\n",
    "        conn = psycopg2.connect(CONNECT_DB)\n",
    "        # connect cursor to db\n",
    "        curs = conn.cursor()\n",
    "        # send postgresql query to request\n",
    "        curs.execute(sql_query)\n",
    "        records = curs.fetchall()\n",
    "\n",
    "    except(Exception, psycopg2.Error) as error:\n",
    "        print (\"Error while connecting to PostgreSQL\", error)\n",
    "    \n",
    "    # close the connection\n",
    "    finally:\n",
    "        if(conn):\n",
    "            curs.close()\n",
    "            conn.close()\n",
    "            # print('PostgreSQL Connection is Closed')\n",
    "        return records\n"
   ]
  },
  {
   "cell_type": "code",
   "execution_count": 10,
   "metadata": {},
   "outputs": [
    {
     "name": "stdout",
     "output_type": "stream",
     "text": [
      "bs140513 table rows : [(594643,)]\n",
      "bsnet140513 table rows : [(594643,)]\n"
     ]
    }
   ],
   "source": [
    "print('bs140513 table rows :', fetch_query('SELECT COUNT(*) FROM bs140513'))\n",
    "print('bsnet140513 table rows :', fetch_query('SELECT COUNT(*) FROM bsnet140513'))"
   ]
  },
  {
   "cell_type": "code",
   "execution_count": 17,
   "metadata": {},
   "outputs": [
    {
     "data": {
      "text/plain": [
       "[(\"'C1093826151'\", \"'M348934600'\", Decimal('4.55'), \"'es_transportation'\", 0),\n",
       " (\"'C352968107'\", \"'M348934600'\", Decimal('39.68'), \"'es_transportation'\", 0),\n",
       " (\"'C2054744914'\",\n",
       "  \"'M1823072687'\",\n",
       "  Decimal('26.89'),\n",
       "  \"'es_transportation'\",\n",
       "  0),\n",
       " (\"'C1760612790'\", \"'M348934600'\", Decimal('17.25'), \"'es_transportation'\", 0),\n",
       " (\"'C757503768'\", \"'M348934600'\", Decimal('35.72'), \"'es_transportation'\", 0)]"
      ]
     },
     "execution_count": 17,
     "metadata": {},
     "output_type": "execute_result"
    }
   ],
   "source": [
    "fetch_query('SELECT * FROM bsnet140513 LIMIT 5')"
   ]
  },
  {
   "cell_type": "code",
   "execution_count": 16,
   "metadata": {},
   "outputs": [
    {
     "data": {
      "text/plain": [
       "[(0,\n",
       "  \"'C1093826151'\",\n",
       "  \"'4'\",\n",
       "  \"'M'\",\n",
       "  \"'28007'\",\n",
       "  \"'M348934600'\",\n",
       "  \"'28007'\",\n",
       "  \"'es_transportation'\",\n",
       "  Decimal('4.55'),\n",
       "  0),\n",
       " (0,\n",
       "  \"'C352968107'\",\n",
       "  \"'2'\",\n",
       "  \"'M'\",\n",
       "  \"'28007'\",\n",
       "  \"'M348934600'\",\n",
       "  \"'28007'\",\n",
       "  \"'es_transportation'\",\n",
       "  Decimal('39.68'),\n",
       "  0),\n",
       " (0,\n",
       "  \"'C2054744914'\",\n",
       "  \"'4'\",\n",
       "  \"'F'\",\n",
       "  \"'28007'\",\n",
       "  \"'M1823072687'\",\n",
       "  \"'28007'\",\n",
       "  \"'es_transportation'\",\n",
       "  Decimal('26.89'),\n",
       "  0)]"
      ]
     },
     "execution_count": 16,
     "metadata": {},
     "output_type": "execute_result"
    }
   ],
   "source": [
    "fetch_query('''SELECT * FROM bs140513 LIMIT 3''')"
   ]
  },
  {
   "cell_type": "code",
   "execution_count": 21,
   "metadata": {},
   "outputs": [],
   "source": [
    "def pandas_db_server_fetch(sql_query):\n",
    "    try:\n",
    "        # Make connection to db\n",
    "        conn = psycopg2.connect(CONNECT_DB)\n",
    "\n",
    "        # Send sql query to request and create dataframe\n",
    "        df = pd.read_sql(sql_query, conn)\n",
    "\n",
    "    except (Exception, psycopg2.Error) as error :\n",
    "        print (\"Error while connecting to PostgreSQL\", error)\n",
    "\n",
    "    finally:\n",
    "        #closing database connection.\n",
    "        if(conn):\n",
    "            conn.close()\n",
    "            # print(\"PostgreSQL connection is closed\")\n",
    "        return df"
   ]
  },
  {
   "cell_type": "markdown",
   "metadata": {},
   "source": [
    "menjalankan function string replace dengan regex r `str.replace(r\"'\",\"\")` untuk menghapus kutip di dalam value pada kolom dengan"
   ]
  },
  {
   "cell_type": "code",
   "execution_count": 52,
   "metadata": {},
   "outputs": [
    {
     "data": {
      "text/html": [
       "<div>\n",
       "<style scoped>\n",
       "    .dataframe tbody tr th:only-of-type {\n",
       "        vertical-align: middle;\n",
       "    }\n",
       "\n",
       "    .dataframe tbody tr th {\n",
       "        vertical-align: top;\n",
       "    }\n",
       "\n",
       "    .dataframe thead th {\n",
       "        text-align: right;\n",
       "    }\n",
       "</style>\n",
       "<table border=\"1\" class=\"dataframe\">\n",
       "  <thead>\n",
       "    <tr style=\"text-align: right;\">\n",
       "      <th></th>\n",
       "      <th>step</th>\n",
       "      <th>customer</th>\n",
       "      <th>age</th>\n",
       "      <th>gender</th>\n",
       "      <th>zipcodeori</th>\n",
       "      <th>merchant</th>\n",
       "      <th>zipmerchant</th>\n",
       "      <th>category</th>\n",
       "      <th>amount</th>\n",
       "      <th>fraud</th>\n",
       "    </tr>\n",
       "  </thead>\n",
       "  <tbody>\n",
       "    <tr>\n",
       "      <th>0</th>\n",
       "      <td>0</td>\n",
       "      <td>C1093826151</td>\n",
       "      <td>4</td>\n",
       "      <td>M</td>\n",
       "      <td>28007</td>\n",
       "      <td>M348934600</td>\n",
       "      <td>28007</td>\n",
       "      <td>es_transportation</td>\n",
       "      <td>4.55</td>\n",
       "      <td>0</td>\n",
       "    </tr>\n",
       "    <tr>\n",
       "      <th>1</th>\n",
       "      <td>0</td>\n",
       "      <td>C352968107</td>\n",
       "      <td>2</td>\n",
       "      <td>M</td>\n",
       "      <td>28007</td>\n",
       "      <td>M348934600</td>\n",
       "      <td>28007</td>\n",
       "      <td>es_transportation</td>\n",
       "      <td>39.68</td>\n",
       "      <td>0</td>\n",
       "    </tr>\n",
       "    <tr>\n",
       "      <th>2</th>\n",
       "      <td>0</td>\n",
       "      <td>C2054744914</td>\n",
       "      <td>4</td>\n",
       "      <td>F</td>\n",
       "      <td>28007</td>\n",
       "      <td>M1823072687</td>\n",
       "      <td>28007</td>\n",
       "      <td>es_transportation</td>\n",
       "      <td>26.89</td>\n",
       "      <td>0</td>\n",
       "    </tr>\n",
       "    <tr>\n",
       "      <th>3</th>\n",
       "      <td>0</td>\n",
       "      <td>C1760612790</td>\n",
       "      <td>3</td>\n",
       "      <td>M</td>\n",
       "      <td>28007</td>\n",
       "      <td>M348934600</td>\n",
       "      <td>28007</td>\n",
       "      <td>es_transportation</td>\n",
       "      <td>17.25</td>\n",
       "      <td>0</td>\n",
       "    </tr>\n",
       "    <tr>\n",
       "      <th>4</th>\n",
       "      <td>0</td>\n",
       "      <td>C757503768</td>\n",
       "      <td>5</td>\n",
       "      <td>M</td>\n",
       "      <td>28007</td>\n",
       "      <td>M348934600</td>\n",
       "      <td>28007</td>\n",
       "      <td>es_transportation</td>\n",
       "      <td>35.72</td>\n",
       "      <td>0</td>\n",
       "    </tr>\n",
       "  </tbody>\n",
       "</table>\n",
       "</div>"
      ],
      "text/plain": [
       "   step     customer age gender zipcodeori     merchant zipmerchant  \\\n",
       "0     0  C1093826151   4      M      28007   M348934600       28007   \n",
       "1     0   C352968107   2      M      28007   M348934600       28007   \n",
       "2     0  C2054744914   4      F      28007  M1823072687       28007   \n",
       "3     0  C1760612790   3      M      28007   M348934600       28007   \n",
       "4     0   C757503768   5      M      28007   M348934600       28007   \n",
       "\n",
       "            category  amount  fraud  \n",
       "0  es_transportation    4.55      0  \n",
       "1  es_transportation   39.68      0  \n",
       "2  es_transportation   26.89      0  \n",
       "3  es_transportation   17.25      0  \n",
       "4  es_transportation   35.72      0  "
      ]
     },
     "execution_count": 52,
     "metadata": {},
     "output_type": "execute_result"
    }
   ],
   "source": [
    "# mengambil table dari sql dan ditampung di dataframe dengan pandas\n",
    "df_bs140513 = pandas_db_server_fetch('SELECT * FROM bs140513')\n",
    "\n",
    "# menghilangkan kutip pada value di dalam kolom dengan str replace\n",
    "for col_string in ['customer', 'age', 'gender', 'zipcodeori','merchant','zipmerchant','category']:\n",
    "    df_bs140513[col_string] = df_bs140513[col_string].str.replace(r\"'\", \"\")\n",
    "df_bs140513.head()"
   ]
  },
  {
   "cell_type": "code",
   "execution_count": 34,
   "metadata": {},
   "outputs": [
    {
     "name": "stdout",
     "output_type": "stream",
     "text": [
      "(594643, 10)\n",
      "<class 'pandas.core.frame.DataFrame'>\n",
      "RangeIndex: 594643 entries, 0 to 594642\n",
      "Data columns (total 10 columns):\n",
      " #   Column       Non-Null Count   Dtype  \n",
      "---  ------       --------------   -----  \n",
      " 0   step         594643 non-null  int64  \n",
      " 1   customer     594643 non-null  object \n",
      " 2   age          594643 non-null  object \n",
      " 3   gender       594643 non-null  object \n",
      " 4   zipcodeori   594643 non-null  object \n",
      " 5   merchant     594643 non-null  object \n",
      " 6   zipmerchant  594643 non-null  object \n",
      " 7   category     594643 non-null  object \n",
      " 8   amount       594643 non-null  float64\n",
      " 9   fraud        594643 non-null  int64  \n",
      "dtypes: float64(1), int64(2), object(7)\n",
      "memory usage: 45.4+ MB\n"
     ]
    }
   ],
   "source": [
    "print(df_bs140513.shape)\n",
    "df_bs140513.info()"
   ]
  },
  {
   "cell_type": "code",
   "execution_count": 36,
   "metadata": {},
   "outputs": [
    {
     "data": {
      "text/plain": [
       "step           0\n",
       "customer       0\n",
       "age            0\n",
       "gender         0\n",
       "zipcodeori     0\n",
       "merchant       0\n",
       "zipmerchant    0\n",
       "category       0\n",
       "amount         0\n",
       "fraud          0\n",
       "dtype: int64"
      ]
     },
     "execution_count": 36,
     "metadata": {},
     "output_type": "execute_result"
    }
   ],
   "source": [
    "df_bs140513.isnull().sum()"
   ]
  },
  {
   "cell_type": "code",
   "execution_count": 38,
   "metadata": {},
   "outputs": [
    {
     "data": {
      "text/html": [
       "<div>\n",
       "<style scoped>\n",
       "    .dataframe tbody tr th:only-of-type {\n",
       "        vertical-align: middle;\n",
       "    }\n",
       "\n",
       "    .dataframe tbody tr th {\n",
       "        vertical-align: top;\n",
       "    }\n",
       "\n",
       "    .dataframe thead th {\n",
       "        text-align: right;\n",
       "    }\n",
       "</style>\n",
       "<table border=\"1\" class=\"dataframe\">\n",
       "  <thead>\n",
       "    <tr style=\"text-align: right;\">\n",
       "      <th></th>\n",
       "      <th>step</th>\n",
       "      <th>amount</th>\n",
       "      <th>fraud</th>\n",
       "    </tr>\n",
       "  </thead>\n",
       "  <tbody>\n",
       "    <tr>\n",
       "      <th>count</th>\n",
       "      <td>594643.000000</td>\n",
       "      <td>594643.000000</td>\n",
       "      <td>594643.000000</td>\n",
       "    </tr>\n",
       "    <tr>\n",
       "      <th>mean</th>\n",
       "      <td>94.986827</td>\n",
       "      <td>37.890135</td>\n",
       "      <td>0.012108</td>\n",
       "    </tr>\n",
       "    <tr>\n",
       "      <th>std</th>\n",
       "      <td>51.053632</td>\n",
       "      <td>111.402831</td>\n",
       "      <td>0.109369</td>\n",
       "    </tr>\n",
       "    <tr>\n",
       "      <th>min</th>\n",
       "      <td>0.000000</td>\n",
       "      <td>0.000000</td>\n",
       "      <td>0.000000</td>\n",
       "    </tr>\n",
       "    <tr>\n",
       "      <th>25%</th>\n",
       "      <td>52.000000</td>\n",
       "      <td>13.740000</td>\n",
       "      <td>0.000000</td>\n",
       "    </tr>\n",
       "    <tr>\n",
       "      <th>50%</th>\n",
       "      <td>97.000000</td>\n",
       "      <td>26.900000</td>\n",
       "      <td>0.000000</td>\n",
       "    </tr>\n",
       "    <tr>\n",
       "      <th>75%</th>\n",
       "      <td>139.000000</td>\n",
       "      <td>42.540000</td>\n",
       "      <td>0.000000</td>\n",
       "    </tr>\n",
       "    <tr>\n",
       "      <th>max</th>\n",
       "      <td>179.000000</td>\n",
       "      <td>8329.960000</td>\n",
       "      <td>1.000000</td>\n",
       "    </tr>\n",
       "  </tbody>\n",
       "</table>\n",
       "</div>"
      ],
      "text/plain": [
       "                step         amount          fraud\n",
       "count  594643.000000  594643.000000  594643.000000\n",
       "mean       94.986827      37.890135       0.012108\n",
       "std        51.053632     111.402831       0.109369\n",
       "min         0.000000       0.000000       0.000000\n",
       "25%        52.000000      13.740000       0.000000\n",
       "50%        97.000000      26.900000       0.000000\n",
       "75%       139.000000      42.540000       0.000000\n",
       "max       179.000000    8329.960000       1.000000"
      ]
     },
     "metadata": {},
     "output_type": "display_data"
    },
    {
     "data": {
      "text/html": [
       "<div>\n",
       "<style scoped>\n",
       "    .dataframe tbody tr th:only-of-type {\n",
       "        vertical-align: middle;\n",
       "    }\n",
       "\n",
       "    .dataframe tbody tr th {\n",
       "        vertical-align: top;\n",
       "    }\n",
       "\n",
       "    .dataframe thead th {\n",
       "        text-align: right;\n",
       "    }\n",
       "</style>\n",
       "<table border=\"1\" class=\"dataframe\">\n",
       "  <thead>\n",
       "    <tr style=\"text-align: right;\">\n",
       "      <th></th>\n",
       "      <th>customer</th>\n",
       "      <th>age</th>\n",
       "      <th>gender</th>\n",
       "      <th>zipcodeori</th>\n",
       "      <th>merchant</th>\n",
       "      <th>zipmerchant</th>\n",
       "      <th>category</th>\n",
       "    </tr>\n",
       "  </thead>\n",
       "  <tbody>\n",
       "    <tr>\n",
       "      <th>count</th>\n",
       "      <td>594643</td>\n",
       "      <td>594643</td>\n",
       "      <td>594643</td>\n",
       "      <td>594643</td>\n",
       "      <td>594643</td>\n",
       "      <td>594643</td>\n",
       "      <td>594643</td>\n",
       "    </tr>\n",
       "    <tr>\n",
       "      <th>unique</th>\n",
       "      <td>4112</td>\n",
       "      <td>8</td>\n",
       "      <td>4</td>\n",
       "      <td>1</td>\n",
       "      <td>50</td>\n",
       "      <td>1</td>\n",
       "      <td>15</td>\n",
       "    </tr>\n",
       "    <tr>\n",
       "      <th>top</th>\n",
       "      <td>C1978250683</td>\n",
       "      <td>2</td>\n",
       "      <td>F</td>\n",
       "      <td>28007</td>\n",
       "      <td>M1823072687</td>\n",
       "      <td>28007</td>\n",
       "      <td>es_transportation</td>\n",
       "    </tr>\n",
       "    <tr>\n",
       "      <th>freq</th>\n",
       "      <td>265</td>\n",
       "      <td>187310</td>\n",
       "      <td>324565</td>\n",
       "      <td>594643</td>\n",
       "      <td>299693</td>\n",
       "      <td>594643</td>\n",
       "      <td>505119</td>\n",
       "    </tr>\n",
       "  </tbody>\n",
       "</table>\n",
       "</div>"
      ],
      "text/plain": [
       "           customer     age  gender zipcodeori     merchant zipmerchant  \\\n",
       "count        594643  594643  594643     594643       594643      594643   \n",
       "unique         4112       8       4          1           50           1   \n",
       "top     C1978250683       2       F      28007  M1823072687       28007   \n",
       "freq            265  187310  324565     594643       299693      594643   \n",
       "\n",
       "                 category  \n",
       "count              594643  \n",
       "unique                 15  \n",
       "top     es_transportation  \n",
       "freq               505119  "
      ]
     },
     "metadata": {},
     "output_type": "display_data"
    }
   ],
   "source": [
    "display(df_bs140513.describe())\n",
    "display(df_bs140513.describe(include=[object]))"
   ]
  },
  {
   "cell_type": "markdown",
   "metadata": {},
   "source": [
    "melihat masing-masing unique value dengan panjang jumlah variabel unique nya masing-masing"
   ]
  },
  {
   "cell_type": "code",
   "execution_count": 41,
   "metadata": {},
   "outputs": [
    {
     "name": "stdout",
     "output_type": "stream",
     "text": [
      "age: ['4' '2' '3' '5' '1' '6' 'U' '0']\n",
      "length of age : 8\n",
      "\n",
      "gender: ['M' 'F' 'E' 'U']\n",
      "length of gender : 4\n",
      "\n",
      "category: ['es_transportation' 'es_health' 'es_otherservices' 'es_food'\n",
      " 'es_hotelservices' 'es_barsandrestaurants' 'es_tech' 'es_sportsandtoys'\n",
      " 'es_wellnessandbeauty' 'es_hyper' 'es_fashion' 'es_home' 'es_contents'\n",
      " 'es_travel' 'es_leisure']\n",
      "length of category : 15\n",
      "\n"
     ]
    }
   ],
   "source": [
    "for cat_col in ['age','gender','category']:\n",
    "    print(f'{cat_col}: {df_bs140513[cat_col].unique()}')\n",
    "    print(f'length of {cat_col} : {len(df_bs140513[cat_col].unique())}\\n')"
   ]
  },
  {
   "cell_type": "markdown",
   "metadata": {},
   "source": [
    "menampilkan data `bs140513` dengan `age` yang hanya berisi `U`"
   ]
  },
  {
   "cell_type": "code",
   "execution_count": 53,
   "metadata": {},
   "outputs": [
    {
     "data": {
      "text/html": [
       "<div>\n",
       "<style scoped>\n",
       "    .dataframe tbody tr th:only-of-type {\n",
       "        vertical-align: middle;\n",
       "    }\n",
       "\n",
       "    .dataframe tbody tr th {\n",
       "        vertical-align: top;\n",
       "    }\n",
       "\n",
       "    .dataframe thead th {\n",
       "        text-align: right;\n",
       "    }\n",
       "</style>\n",
       "<table border=\"1\" class=\"dataframe\">\n",
       "  <thead>\n",
       "    <tr style=\"text-align: right;\">\n",
       "      <th></th>\n",
       "      <th>step</th>\n",
       "      <th>customer</th>\n",
       "      <th>age</th>\n",
       "      <th>gender</th>\n",
       "      <th>zipcodeori</th>\n",
       "      <th>merchant</th>\n",
       "      <th>zipmerchant</th>\n",
       "      <th>category</th>\n",
       "      <th>amount</th>\n",
       "      <th>fraud</th>\n",
       "    </tr>\n",
       "  </thead>\n",
       "  <tbody>\n",
       "    <tr>\n",
       "      <th>467</th>\n",
       "      <td>0</td>\n",
       "      <td>C2075935351</td>\n",
       "      <td>U</td>\n",
       "      <td>E</td>\n",
       "      <td>28007</td>\n",
       "      <td>M1823072687</td>\n",
       "      <td>28007</td>\n",
       "      <td>es_transportation</td>\n",
       "      <td>21.25</td>\n",
       "      <td>0</td>\n",
       "    </tr>\n",
       "    <tr>\n",
       "      <th>1494</th>\n",
       "      <td>0</td>\n",
       "      <td>C914000857</td>\n",
       "      <td>U</td>\n",
       "      <td>E</td>\n",
       "      <td>28007</td>\n",
       "      <td>M348934600</td>\n",
       "      <td>28007</td>\n",
       "      <td>es_transportation</td>\n",
       "      <td>35.59</td>\n",
       "      <td>0</td>\n",
       "    </tr>\n",
       "    <tr>\n",
       "      <th>1856</th>\n",
       "      <td>0</td>\n",
       "      <td>C808326652</td>\n",
       "      <td>U</td>\n",
       "      <td>E</td>\n",
       "      <td>28007</td>\n",
       "      <td>M348934600</td>\n",
       "      <td>28007</td>\n",
       "      <td>es_transportation</td>\n",
       "      <td>56.78</td>\n",
       "      <td>0</td>\n",
       "    </tr>\n",
       "    <tr>\n",
       "      <th>2092</th>\n",
       "      <td>0</td>\n",
       "      <td>C1374607221</td>\n",
       "      <td>U</td>\n",
       "      <td>E</td>\n",
       "      <td>28007</td>\n",
       "      <td>M1823072687</td>\n",
       "      <td>28007</td>\n",
       "      <td>es_transportation</td>\n",
       "      <td>17.47</td>\n",
       "      <td>0</td>\n",
       "    </tr>\n",
       "    <tr>\n",
       "      <th>2796</th>\n",
       "      <td>1</td>\n",
       "      <td>C1871125244</td>\n",
       "      <td>U</td>\n",
       "      <td>E</td>\n",
       "      <td>28007</td>\n",
       "      <td>M547558035</td>\n",
       "      <td>28007</td>\n",
       "      <td>es_fashion</td>\n",
       "      <td>40.38</td>\n",
       "      <td>0</td>\n",
       "    </tr>\n",
       "    <tr>\n",
       "      <th>...</th>\n",
       "      <td>...</td>\n",
       "      <td>...</td>\n",
       "      <td>...</td>\n",
       "      <td>...</td>\n",
       "      <td>...</td>\n",
       "      <td>...</td>\n",
       "      <td>...</td>\n",
       "      <td>...</td>\n",
       "      <td>...</td>\n",
       "      <td>...</td>\n",
       "    </tr>\n",
       "    <tr>\n",
       "      <th>592375</th>\n",
       "      <td>179</td>\n",
       "      <td>C1215440829</td>\n",
       "      <td>U</td>\n",
       "      <td>E</td>\n",
       "      <td>28007</td>\n",
       "      <td>M1823072687</td>\n",
       "      <td>28007</td>\n",
       "      <td>es_transportation</td>\n",
       "      <td>44.16</td>\n",
       "      <td>0</td>\n",
       "    </tr>\n",
       "    <tr>\n",
       "      <th>592594</th>\n",
       "      <td>179</td>\n",
       "      <td>C2075935351</td>\n",
       "      <td>U</td>\n",
       "      <td>E</td>\n",
       "      <td>28007</td>\n",
       "      <td>M1823072687</td>\n",
       "      <td>28007</td>\n",
       "      <td>es_transportation</td>\n",
       "      <td>16.78</td>\n",
       "      <td>0</td>\n",
       "    </tr>\n",
       "    <tr>\n",
       "      <th>593660</th>\n",
       "      <td>179</td>\n",
       "      <td>C1871125244</td>\n",
       "      <td>U</td>\n",
       "      <td>E</td>\n",
       "      <td>28007</td>\n",
       "      <td>M1823072687</td>\n",
       "      <td>28007</td>\n",
       "      <td>es_transportation</td>\n",
       "      <td>56.11</td>\n",
       "      <td>0</td>\n",
       "    </tr>\n",
       "    <tr>\n",
       "      <th>594128</th>\n",
       "      <td>179</td>\n",
       "      <td>C1374607221</td>\n",
       "      <td>U</td>\n",
       "      <td>E</td>\n",
       "      <td>28007</td>\n",
       "      <td>M1823072687</td>\n",
       "      <td>28007</td>\n",
       "      <td>es_transportation</td>\n",
       "      <td>4.44</td>\n",
       "      <td>0</td>\n",
       "    </tr>\n",
       "    <tr>\n",
       "      <th>594612</th>\n",
       "      <td>179</td>\n",
       "      <td>C914000857</td>\n",
       "      <td>U</td>\n",
       "      <td>E</td>\n",
       "      <td>28007</td>\n",
       "      <td>M85975013</td>\n",
       "      <td>28007</td>\n",
       "      <td>es_food</td>\n",
       "      <td>22.58</td>\n",
       "      <td>0</td>\n",
       "    </tr>\n",
       "  </tbody>\n",
       "</table>\n",
       "<p>1178 rows × 10 columns</p>\n",
       "</div>"
      ],
      "text/plain": [
       "        step     customer age gender zipcodeori     merchant zipmerchant  \\\n",
       "467        0  C2075935351   U      E      28007  M1823072687       28007   \n",
       "1494       0   C914000857   U      E      28007   M348934600       28007   \n",
       "1856       0   C808326652   U      E      28007   M348934600       28007   \n",
       "2092       0  C1374607221   U      E      28007  M1823072687       28007   \n",
       "2796       1  C1871125244   U      E      28007   M547558035       28007   \n",
       "...      ...          ...  ..    ...        ...          ...         ...   \n",
       "592375   179  C1215440829   U      E      28007  M1823072687       28007   \n",
       "592594   179  C2075935351   U      E      28007  M1823072687       28007   \n",
       "593660   179  C1871125244   U      E      28007  M1823072687       28007   \n",
       "594128   179  C1374607221   U      E      28007  M1823072687       28007   \n",
       "594612   179   C914000857   U      E      28007    M85975013       28007   \n",
       "\n",
       "                 category  amount  fraud  \n",
       "467     es_transportation   21.25      0  \n",
       "1494    es_transportation   35.59      0  \n",
       "1856    es_transportation   56.78      0  \n",
       "2092    es_transportation   17.47      0  \n",
       "2796           es_fashion   40.38      0  \n",
       "...                   ...     ...    ...  \n",
       "592375  es_transportation   44.16      0  \n",
       "592594  es_transportation   16.78      0  \n",
       "593660  es_transportation   56.11      0  \n",
       "594128  es_transportation    4.44      0  \n",
       "594612            es_food   22.58      0  \n",
       "\n",
       "[1178 rows x 10 columns]"
      ]
     },
     "execution_count": 53,
     "metadata": {},
     "output_type": "execute_result"
    }
   ],
   "source": [
    "df_bs140513[df_bs140513['age'] == 'U'] "
   ]
  },
  {
   "cell_type": "markdown",
   "metadata": {},
   "source": [
    "melihat masing-masing unique value dari kolom `age`, `gender`, dan `category` dengan method `value_counts()` dari pandas"
   ]
  },
  {
   "cell_type": "code",
   "execution_count": 46,
   "metadata": {},
   "outputs": [
    {
     "name": "stdout",
     "output_type": "stream",
     "text": [
      "2    187310\n",
      "3    147131\n",
      "4    109025\n",
      "5     62642\n",
      "1     58131\n",
      "6     26774\n",
      "0      2452\n",
      "U      1178\n",
      "Name: age, dtype: int64 \n",
      "\n",
      "F    324565\n",
      "M    268385\n",
      "E      1178\n",
      "U       515\n",
      "Name: gender, dtype: int64 \n",
      "\n",
      "es_transportation        505119\n",
      "es_food                   26254\n",
      "es_health                 16133\n",
      "es_wellnessandbeauty      15086\n",
      "es_fashion                 6454\n",
      "es_barsandrestaurants      6373\n",
      "es_hyper                   6098\n",
      "es_sportsandtoys           4002\n",
      "es_tech                    2370\n",
      "es_home                    1986\n",
      "es_hotelservices           1744\n",
      "es_otherservices            912\n",
      "es_contents                 885\n",
      "es_travel                   728\n",
      "es_leisure                  499\n",
      "Name: category, dtype: int64 \n",
      "\n"
     ]
    }
   ],
   "source": [
    "for cat_col in ['age','gender','category']:\n",
    "    print(df_bs140513[cat_col].value_counts(),'\\n')"
   ]
  },
  {
   "cell_type": "markdown",
   "metadata": {},
   "source": [
    "menjalankan function string replace dengan regex r `str.replace(r\"'\",\"\")` untuk menghapus kutip di dalam value pada kolom dengan"
   ]
  },
  {
   "cell_type": "code",
   "execution_count": 30,
   "metadata": {},
   "outputs": [
    {
     "data": {
      "text/html": [
       "<div>\n",
       "<style scoped>\n",
       "    .dataframe tbody tr th:only-of-type {\n",
       "        vertical-align: middle;\n",
       "    }\n",
       "\n",
       "    .dataframe tbody tr th {\n",
       "        vertical-align: top;\n",
       "    }\n",
       "\n",
       "    .dataframe thead th {\n",
       "        text-align: right;\n",
       "    }\n",
       "</style>\n",
       "<table border=\"1\" class=\"dataframe\">\n",
       "  <thead>\n",
       "    <tr style=\"text-align: right;\">\n",
       "      <th></th>\n",
       "      <th>source</th>\n",
       "      <th>target</th>\n",
       "      <th>weight</th>\n",
       "      <th>typetrans</th>\n",
       "      <th>fraud</th>\n",
       "    </tr>\n",
       "  </thead>\n",
       "  <tbody>\n",
       "    <tr>\n",
       "      <th>0</th>\n",
       "      <td>C1093826151</td>\n",
       "      <td>M348934600</td>\n",
       "      <td>4.55</td>\n",
       "      <td>es_transportation</td>\n",
       "      <td>0</td>\n",
       "    </tr>\n",
       "    <tr>\n",
       "      <th>1</th>\n",
       "      <td>C352968107</td>\n",
       "      <td>M348934600</td>\n",
       "      <td>39.68</td>\n",
       "      <td>es_transportation</td>\n",
       "      <td>0</td>\n",
       "    </tr>\n",
       "    <tr>\n",
       "      <th>2</th>\n",
       "      <td>C2054744914</td>\n",
       "      <td>M1823072687</td>\n",
       "      <td>26.89</td>\n",
       "      <td>es_transportation</td>\n",
       "      <td>0</td>\n",
       "    </tr>\n",
       "    <tr>\n",
       "      <th>3</th>\n",
       "      <td>C1760612790</td>\n",
       "      <td>M348934600</td>\n",
       "      <td>17.25</td>\n",
       "      <td>es_transportation</td>\n",
       "      <td>0</td>\n",
       "    </tr>\n",
       "    <tr>\n",
       "      <th>4</th>\n",
       "      <td>C757503768</td>\n",
       "      <td>M348934600</td>\n",
       "      <td>35.72</td>\n",
       "      <td>es_transportation</td>\n",
       "      <td>0</td>\n",
       "    </tr>\n",
       "  </tbody>\n",
       "</table>\n",
       "</div>"
      ],
      "text/plain": [
       "        source       target  weight          typetrans  fraud\n",
       "0  C1093826151   M348934600    4.55  es_transportation      0\n",
       "1   C352968107   M348934600   39.68  es_transportation      0\n",
       "2  C2054744914  M1823072687   26.89  es_transportation      0\n",
       "3  C1760612790   M348934600   17.25  es_transportation      0\n",
       "4   C757503768   M348934600   35.72  es_transportation      0"
      ]
     },
     "execution_count": 30,
     "metadata": {},
     "output_type": "execute_result"
    }
   ],
   "source": [
    "# mengambil table dari sql dan ditampung di dataframe dengan pandas\n",
    "df_bsnet140513 = pandas_db_server_fetch('SELECT * FROM bsnet140513')\n",
    "\n",
    "# menghilangkan kutip pada value di dalam kolom dengan str replace\n",
    "for col_string in ['source', 'target', 'typetrans']:\n",
    "    df_bsnet140513[col_string] = df_bsnet140513[col_string].str.replace(r\"'\", \"\")\n",
    "df_bsnet140513.head()"
   ]
  },
  {
   "cell_type": "code",
   "execution_count": 35,
   "metadata": {},
   "outputs": [
    {
     "name": "stdout",
     "output_type": "stream",
     "text": [
      "(594643, 5)\n",
      "<class 'pandas.core.frame.DataFrame'>\n",
      "RangeIndex: 594643 entries, 0 to 594642\n",
      "Data columns (total 5 columns):\n",
      " #   Column     Non-Null Count   Dtype  \n",
      "---  ------     --------------   -----  \n",
      " 0   source     594643 non-null  object \n",
      " 1   target     594643 non-null  object \n",
      " 2   weight     594643 non-null  float64\n",
      " 3   typetrans  594643 non-null  object \n",
      " 4   fraud      594643 non-null  int64  \n",
      "dtypes: float64(1), int64(1), object(3)\n",
      "memory usage: 22.7+ MB\n"
     ]
    }
   ],
   "source": [
    "print(df_bsnet140513.shape)\n",
    "df_bsnet140513.info()"
   ]
  },
  {
   "cell_type": "code",
   "execution_count": 37,
   "metadata": {},
   "outputs": [
    {
     "data": {
      "text/plain": [
       "source       0\n",
       "target       0\n",
       "weight       0\n",
       "typetrans    0\n",
       "fraud        0\n",
       "dtype: int64"
      ]
     },
     "execution_count": 37,
     "metadata": {},
     "output_type": "execute_result"
    }
   ],
   "source": [
    "df_bsnet140513.isnull().sum()"
   ]
  },
  {
   "cell_type": "code",
   "execution_count": 39,
   "metadata": {},
   "outputs": [
    {
     "data": {
      "text/html": [
       "<div>\n",
       "<style scoped>\n",
       "    .dataframe tbody tr th:only-of-type {\n",
       "        vertical-align: middle;\n",
       "    }\n",
       "\n",
       "    .dataframe tbody tr th {\n",
       "        vertical-align: top;\n",
       "    }\n",
       "\n",
       "    .dataframe thead th {\n",
       "        text-align: right;\n",
       "    }\n",
       "</style>\n",
       "<table border=\"1\" class=\"dataframe\">\n",
       "  <thead>\n",
       "    <tr style=\"text-align: right;\">\n",
       "      <th></th>\n",
       "      <th>weight</th>\n",
       "      <th>fraud</th>\n",
       "    </tr>\n",
       "  </thead>\n",
       "  <tbody>\n",
       "    <tr>\n",
       "      <th>count</th>\n",
       "      <td>594643.000000</td>\n",
       "      <td>594643.000000</td>\n",
       "    </tr>\n",
       "    <tr>\n",
       "      <th>mean</th>\n",
       "      <td>37.890135</td>\n",
       "      <td>0.012108</td>\n",
       "    </tr>\n",
       "    <tr>\n",
       "      <th>std</th>\n",
       "      <td>111.402831</td>\n",
       "      <td>0.109369</td>\n",
       "    </tr>\n",
       "    <tr>\n",
       "      <th>min</th>\n",
       "      <td>0.000000</td>\n",
       "      <td>0.000000</td>\n",
       "    </tr>\n",
       "    <tr>\n",
       "      <th>25%</th>\n",
       "      <td>13.740000</td>\n",
       "      <td>0.000000</td>\n",
       "    </tr>\n",
       "    <tr>\n",
       "      <th>50%</th>\n",
       "      <td>26.900000</td>\n",
       "      <td>0.000000</td>\n",
       "    </tr>\n",
       "    <tr>\n",
       "      <th>75%</th>\n",
       "      <td>42.540000</td>\n",
       "      <td>0.000000</td>\n",
       "    </tr>\n",
       "    <tr>\n",
       "      <th>max</th>\n",
       "      <td>8329.960000</td>\n",
       "      <td>1.000000</td>\n",
       "    </tr>\n",
       "  </tbody>\n",
       "</table>\n",
       "</div>"
      ],
      "text/plain": [
       "              weight          fraud\n",
       "count  594643.000000  594643.000000\n",
       "mean       37.890135       0.012108\n",
       "std       111.402831       0.109369\n",
       "min         0.000000       0.000000\n",
       "25%        13.740000       0.000000\n",
       "50%        26.900000       0.000000\n",
       "75%        42.540000       0.000000\n",
       "max      8329.960000       1.000000"
      ]
     },
     "metadata": {},
     "output_type": "display_data"
    },
    {
     "data": {
      "text/html": [
       "<div>\n",
       "<style scoped>\n",
       "    .dataframe tbody tr th:only-of-type {\n",
       "        vertical-align: middle;\n",
       "    }\n",
       "\n",
       "    .dataframe tbody tr th {\n",
       "        vertical-align: top;\n",
       "    }\n",
       "\n",
       "    .dataframe thead th {\n",
       "        text-align: right;\n",
       "    }\n",
       "</style>\n",
       "<table border=\"1\" class=\"dataframe\">\n",
       "  <thead>\n",
       "    <tr style=\"text-align: right;\">\n",
       "      <th></th>\n",
       "      <th>source</th>\n",
       "      <th>target</th>\n",
       "      <th>typetrans</th>\n",
       "    </tr>\n",
       "  </thead>\n",
       "  <tbody>\n",
       "    <tr>\n",
       "      <th>count</th>\n",
       "      <td>594643</td>\n",
       "      <td>594643</td>\n",
       "      <td>594643</td>\n",
       "    </tr>\n",
       "    <tr>\n",
       "      <th>unique</th>\n",
       "      <td>4112</td>\n",
       "      <td>50</td>\n",
       "      <td>15</td>\n",
       "    </tr>\n",
       "    <tr>\n",
       "      <th>top</th>\n",
       "      <td>C1978250683</td>\n",
       "      <td>M1823072687</td>\n",
       "      <td>es_transportation</td>\n",
       "    </tr>\n",
       "    <tr>\n",
       "      <th>freq</th>\n",
       "      <td>265</td>\n",
       "      <td>299693</td>\n",
       "      <td>505119</td>\n",
       "    </tr>\n",
       "  </tbody>\n",
       "</table>\n",
       "</div>"
      ],
      "text/plain": [
       "             source       target          typetrans\n",
       "count        594643       594643             594643\n",
       "unique         4112           50                 15\n",
       "top     C1978250683  M1823072687  es_transportation\n",
       "freq            265       299693             505119"
      ]
     },
     "metadata": {},
     "output_type": "display_data"
    }
   ],
   "source": [
    "display(df_bsnet140513.describe())\n",
    "display(df_bsnet140513.describe(include=[object]))"
   ]
  },
  {
   "cell_type": "markdown",
   "metadata": {},
   "source": [
    "melihat unique values dari kolom `typetrans` dengan jumlah unique valuesnya "
   ]
  },
  {
   "cell_type": "code",
   "execution_count": 48,
   "metadata": {},
   "outputs": [
    {
     "name": "stdout",
     "output_type": "stream",
     "text": [
      "typetrans unique values:  ['es_transportation' 'es_health' 'es_otherservices' 'es_food'\n",
      " 'es_hotelservices' 'es_barsandrestaurants' 'es_tech' 'es_sportsandtoys'\n",
      " 'es_wellnessandbeauty' 'es_hyper' 'es_fashion' 'es_home' 'es_contents'\n",
      " 'es_travel' 'es_leisure']\n",
      "length of typetrans :  15\n"
     ]
    }
   ],
   "source": [
    "print('typetrans unique values: ', df_bsnet140513['typetrans'].unique())\n",
    "print('length of typetrans : ', len(df_bsnet140513['typetrans'].unique()))"
   ]
  },
  {
   "cell_type": "markdown",
   "metadata": {},
   "source": [
    "melihat masing-masing jumlah frequensi dari unique value pada `typetrans`"
   ]
  },
  {
   "cell_type": "code",
   "execution_count": 49,
   "metadata": {},
   "outputs": [
    {
     "data": {
      "text/plain": [
       "es_transportation        505119\n",
       "es_food                   26254\n",
       "es_health                 16133\n",
       "es_wellnessandbeauty      15086\n",
       "es_fashion                 6454\n",
       "es_barsandrestaurants      6373\n",
       "es_hyper                   6098\n",
       "es_sportsandtoys           4002\n",
       "es_tech                    2370\n",
       "es_home                    1986\n",
       "es_hotelservices           1744\n",
       "es_otherservices            912\n",
       "es_contents                 885\n",
       "es_travel                   728\n",
       "es_leisure                  499\n",
       "Name: typetrans, dtype: int64"
      ]
     },
     "execution_count": 49,
     "metadata": {},
     "output_type": "execute_result"
    }
   ],
   "source": [
    "df_bsnet140513['typetrans'].value_counts()"
   ]
  },
  {
   "cell_type": "markdown",
   "metadata": {},
   "source": [
    "Filtering Data on `bs140513` karena nilainya yang anomali\n",
    "- Exclude Gender E and U , untuk memfilter gender yang berisi `E` dan `U` karena anomali\n",
    "- Exclude Age U, untuk filter data yang `age`nya bukan `U` karena data `U` merupakan anomali\n",
    "\n",
    "diakhiri dengan membuat table baru `bs140513` versi bersihnya"
   ]
  },
  {
   "cell_type": "code",
   "execution_count": 62,
   "metadata": {},
   "outputs": [],
   "source": [
    "df_bs140513_clean = df_bs140513[~df_bs140513['gender'].isin(['E','U'])]\n",
    "df_bs140513_clean = df_bs140513_clean[df_bs140513['age']!='U']"
   ]
  },
  {
   "cell_type": "markdown",
   "metadata": {},
   "source": [
    "`age` diubah dari object ke integer karena seharusnya kolom angka menggunakan `astype(str).astype(int)`"
   ]
  },
  {
   "cell_type": "code",
   "execution_count": 66,
   "metadata": {},
   "outputs": [],
   "source": [
    "# mengubah tipe data dari string object ke int\n",
    "df_bs140513_clean['age'] = df_bs140513_clean['age'].astype(str).astype(int)"
   ]
  },
  {
   "cell_type": "code",
   "execution_count": 67,
   "metadata": {},
   "outputs": [
    {
     "data": {
      "text/plain": [
       "F    324565\n",
       "M    268385\n",
       "Name: gender, dtype: int64"
      ]
     },
     "execution_count": 67,
     "metadata": {},
     "output_type": "execute_result"
    }
   ],
   "source": [
    "df_bs140513_clean['gender'].value_counts()"
   ]
  },
  {
   "cell_type": "code",
   "execution_count": 68,
   "metadata": {},
   "outputs": [
    {
     "data": {
      "text/html": [
       "<div>\n",
       "<style scoped>\n",
       "    .dataframe tbody tr th:only-of-type {\n",
       "        vertical-align: middle;\n",
       "    }\n",
       "\n",
       "    .dataframe tbody tr th {\n",
       "        vertical-align: top;\n",
       "    }\n",
       "\n",
       "    .dataframe thead th {\n",
       "        text-align: right;\n",
       "    }\n",
       "</style>\n",
       "<table border=\"1\" class=\"dataframe\">\n",
       "  <thead>\n",
       "    <tr style=\"text-align: right;\">\n",
       "      <th></th>\n",
       "      <th>step</th>\n",
       "      <th>age</th>\n",
       "      <th>amount</th>\n",
       "      <th>fraud</th>\n",
       "    </tr>\n",
       "  </thead>\n",
       "  <tbody>\n",
       "    <tr>\n",
       "      <th>count</th>\n",
       "      <td>592950.000000</td>\n",
       "      <td>592950.000000</td>\n",
       "      <td>592950.000000</td>\n",
       "      <td>592950.000000</td>\n",
       "    </tr>\n",
       "    <tr>\n",
       "      <th>mean</th>\n",
       "      <td>94.982803</td>\n",
       "      <td>3.007122</td>\n",
       "      <td>37.898186</td>\n",
       "      <td>0.012131</td>\n",
       "    </tr>\n",
       "    <tr>\n",
       "      <th>std</th>\n",
       "      <td>51.056692</td>\n",
       "      <td>1.325356</td>\n",
       "      <td>111.530644</td>\n",
       "      <td>0.109470</td>\n",
       "    </tr>\n",
       "    <tr>\n",
       "      <th>min</th>\n",
       "      <td>0.000000</td>\n",
       "      <td>0.000000</td>\n",
       "      <td>0.000000</td>\n",
       "      <td>0.000000</td>\n",
       "    </tr>\n",
       "    <tr>\n",
       "      <th>25%</th>\n",
       "      <td>52.000000</td>\n",
       "      <td>2.000000</td>\n",
       "      <td>13.750000</td>\n",
       "      <td>0.000000</td>\n",
       "    </tr>\n",
       "    <tr>\n",
       "      <th>50%</th>\n",
       "      <td>97.000000</td>\n",
       "      <td>3.000000</td>\n",
       "      <td>26.900000</td>\n",
       "      <td>0.000000</td>\n",
       "    </tr>\n",
       "    <tr>\n",
       "      <th>75%</th>\n",
       "      <td>139.000000</td>\n",
       "      <td>4.000000</td>\n",
       "      <td>42.540000</td>\n",
       "      <td>0.000000</td>\n",
       "    </tr>\n",
       "    <tr>\n",
       "      <th>max</th>\n",
       "      <td>179.000000</td>\n",
       "      <td>6.000000</td>\n",
       "      <td>8329.960000</td>\n",
       "      <td>1.000000</td>\n",
       "    </tr>\n",
       "  </tbody>\n",
       "</table>\n",
       "</div>"
      ],
      "text/plain": [
       "                step            age         amount          fraud\n",
       "count  592950.000000  592950.000000  592950.000000  592950.000000\n",
       "mean       94.982803       3.007122      37.898186       0.012131\n",
       "std        51.056692       1.325356     111.530644       0.109470\n",
       "min         0.000000       0.000000       0.000000       0.000000\n",
       "25%        52.000000       2.000000      13.750000       0.000000\n",
       "50%        97.000000       3.000000      26.900000       0.000000\n",
       "75%       139.000000       4.000000      42.540000       0.000000\n",
       "max       179.000000       6.000000    8329.960000       1.000000"
      ]
     },
     "metadata": {},
     "output_type": "display_data"
    },
    {
     "data": {
      "text/html": [
       "<div>\n",
       "<style scoped>\n",
       "    .dataframe tbody tr th:only-of-type {\n",
       "        vertical-align: middle;\n",
       "    }\n",
       "\n",
       "    .dataframe tbody tr th {\n",
       "        vertical-align: top;\n",
       "    }\n",
       "\n",
       "    .dataframe thead th {\n",
       "        text-align: right;\n",
       "    }\n",
       "</style>\n",
       "<table border=\"1\" class=\"dataframe\">\n",
       "  <thead>\n",
       "    <tr style=\"text-align: right;\">\n",
       "      <th></th>\n",
       "      <th>customer</th>\n",
       "      <th>gender</th>\n",
       "      <th>zipcodeori</th>\n",
       "      <th>merchant</th>\n",
       "      <th>zipmerchant</th>\n",
       "      <th>category</th>\n",
       "    </tr>\n",
       "  </thead>\n",
       "  <tbody>\n",
       "    <tr>\n",
       "      <th>count</th>\n",
       "      <td>592950</td>\n",
       "      <td>592950</td>\n",
       "      <td>592950</td>\n",
       "      <td>592950</td>\n",
       "      <td>592950</td>\n",
       "      <td>592950</td>\n",
       "    </tr>\n",
       "    <tr>\n",
       "      <th>unique</th>\n",
       "      <td>4100</td>\n",
       "      <td>2</td>\n",
       "      <td>1</td>\n",
       "      <td>50</td>\n",
       "      <td>1</td>\n",
       "      <td>15</td>\n",
       "    </tr>\n",
       "    <tr>\n",
       "      <th>top</th>\n",
       "      <td>C1978250683</td>\n",
       "      <td>F</td>\n",
       "      <td>28007</td>\n",
       "      <td>M1823072687</td>\n",
       "      <td>28007</td>\n",
       "      <td>es_transportation</td>\n",
       "    </tr>\n",
       "    <tr>\n",
       "      <th>freq</th>\n",
       "      <td>265</td>\n",
       "      <td>324565</td>\n",
       "      <td>592950</td>\n",
       "      <td>298771</td>\n",
       "      <td>592950</td>\n",
       "      <td>503699</td>\n",
       "    </tr>\n",
       "  </tbody>\n",
       "</table>\n",
       "</div>"
      ],
      "text/plain": [
       "           customer  gender zipcodeori     merchant zipmerchant  \\\n",
       "count        592950  592950     592950       592950      592950   \n",
       "unique         4100       2          1           50           1   \n",
       "top     C1978250683       F      28007  M1823072687       28007   \n",
       "freq            265  324565     592950       298771      592950   \n",
       "\n",
       "                 category  \n",
       "count              592950  \n",
       "unique                 15  \n",
       "top     es_transportation  \n",
       "freq               503699  "
      ]
     },
     "metadata": {},
     "output_type": "display_data"
    }
   ],
   "source": [
    "display(df_bs140513_clean.describe())\n",
    "display(df_bs140513_clean.describe(include=[object]))"
   ]
  },
  {
   "cell_type": "markdown",
   "metadata": {},
   "source": [
    "membuat table baru versi bersih `bsnet140513` dengan memilih rows yang customernya hanya terdapat di `bs140513`"
   ]
  },
  {
   "cell_type": "code",
   "execution_count": 79,
   "metadata": {},
   "outputs": [],
   "source": [
    "# menggunakan isin namun menggunakan table berbeda yang berisi value serupa\n",
    "df_bsnet140513_clean = df_bsnet140513[df_bsnet140513['source'].isin(df_bs140513_clean['customer'])]"
   ]
  },
  {
   "cell_type": "code",
   "execution_count": 80,
   "metadata": {},
   "outputs": [
    {
     "data": {
      "text/plain": [
       "(592950, 5)"
      ]
     },
     "execution_count": 80,
     "metadata": {},
     "output_type": "execute_result"
    }
   ],
   "source": [
    "df_bsnet140513_clean.shape"
   ]
  },
  {
   "cell_type": "code",
   "execution_count": 73,
   "metadata": {},
   "outputs": [
    {
     "data": {
      "text/plain": [
       "(592950, 10)"
      ]
     },
     "execution_count": 73,
     "metadata": {},
     "output_type": "execute_result"
    }
   ],
   "source": [
    "df_bs140513_clean.shape"
   ]
  },
  {
   "cell_type": "markdown",
   "metadata": {},
   "source": [
    "membuat kolom baru `fraud status`, untuk mengisi status sesuai `0` jadi `no` dan `1` jadi `yes`"
   ]
  },
  {
   "cell_type": "code",
   "execution_count": 81,
   "metadata": {},
   "outputs": [
    {
     "name": "stderr",
     "output_type": "stream",
     "text": [
      "C:\\Users\\Hendry\\AppData\\Local\\Temp\\ipykernel_8768\\2492722945.py:1: SettingWithCopyWarning: \n",
      "A value is trying to be set on a copy of a slice from a DataFrame.\n",
      "Try using .loc[row_indexer,col_indexer] = value instead\n",
      "\n",
      "See the caveats in the documentation: https://pandas.pydata.org/pandas-docs/stable/user_guide/indexing.html#returning-a-view-versus-a-copy\n",
      "  df_bsnet140513_clean['fraudstatus'] = df_bsnet140513_clean['fraud'].map({0:'No', 1:'Yes'})\n"
     ]
    }
   ],
   "source": [
    "# membuat kolom baru fraud status yang mengganti nilai 0 menjadi No dengan mapping dictionary\n",
    "df_bsnet140513_clean['fraudstatus'] = df_bsnet140513_clean['fraud'].map({0:'No', 1:'Yes'})"
   ]
  },
  {
   "cell_type": "code",
   "execution_count": 82,
   "metadata": {},
   "outputs": [
    {
     "data": {
      "text/html": [
       "<div>\n",
       "<style scoped>\n",
       "    .dataframe tbody tr th:only-of-type {\n",
       "        vertical-align: middle;\n",
       "    }\n",
       "\n",
       "    .dataframe tbody tr th {\n",
       "        vertical-align: top;\n",
       "    }\n",
       "\n",
       "    .dataframe thead th {\n",
       "        text-align: right;\n",
       "    }\n",
       "</style>\n",
       "<table border=\"1\" class=\"dataframe\">\n",
       "  <thead>\n",
       "    <tr style=\"text-align: right;\">\n",
       "      <th></th>\n",
       "      <th>source</th>\n",
       "      <th>target</th>\n",
       "      <th>weight</th>\n",
       "      <th>typetrans</th>\n",
       "      <th>fraud</th>\n",
       "      <th>fraudstatus</th>\n",
       "    </tr>\n",
       "  </thead>\n",
       "  <tbody>\n",
       "    <tr>\n",
       "      <th>0</th>\n",
       "      <td>C1093826151</td>\n",
       "      <td>M348934600</td>\n",
       "      <td>4.55</td>\n",
       "      <td>es_transportation</td>\n",
       "      <td>0</td>\n",
       "      <td>No</td>\n",
       "    </tr>\n",
       "    <tr>\n",
       "      <th>1</th>\n",
       "      <td>C352968107</td>\n",
       "      <td>M348934600</td>\n",
       "      <td>39.68</td>\n",
       "      <td>es_transportation</td>\n",
       "      <td>0</td>\n",
       "      <td>No</td>\n",
       "    </tr>\n",
       "    <tr>\n",
       "      <th>2</th>\n",
       "      <td>C2054744914</td>\n",
       "      <td>M1823072687</td>\n",
       "      <td>26.89</td>\n",
       "      <td>es_transportation</td>\n",
       "      <td>0</td>\n",
       "      <td>No</td>\n",
       "    </tr>\n",
       "    <tr>\n",
       "      <th>3</th>\n",
       "      <td>C1760612790</td>\n",
       "      <td>M348934600</td>\n",
       "      <td>17.25</td>\n",
       "      <td>es_transportation</td>\n",
       "      <td>0</td>\n",
       "      <td>No</td>\n",
       "    </tr>\n",
       "    <tr>\n",
       "      <th>4</th>\n",
       "      <td>C757503768</td>\n",
       "      <td>M348934600</td>\n",
       "      <td>35.72</td>\n",
       "      <td>es_transportation</td>\n",
       "      <td>0</td>\n",
       "      <td>No</td>\n",
       "    </tr>\n",
       "  </tbody>\n",
       "</table>\n",
       "</div>"
      ],
      "text/plain": [
       "        source       target  weight          typetrans  fraud fraudstatus\n",
       "0  C1093826151   M348934600    4.55  es_transportation      0          No\n",
       "1   C352968107   M348934600   39.68  es_transportation      0          No\n",
       "2  C2054744914  M1823072687   26.89  es_transportation      0          No\n",
       "3  C1760612790   M348934600   17.25  es_transportation      0          No\n",
       "4   C757503768   M348934600   35.72  es_transportation      0          No"
      ]
     },
     "execution_count": 82,
     "metadata": {},
     "output_type": "execute_result"
    }
   ],
   "source": [
    "df_bsnet140513_clean.head()"
   ]
  },
  {
   "cell_type": "code",
   "execution_count": 83,
   "metadata": {},
   "outputs": [
    {
     "data": {
      "text/plain": [
       "No     585757\n",
       "Yes      7193\n",
       "Name: fraudstatus, dtype: int64"
      ]
     },
     "execution_count": 83,
     "metadata": {},
     "output_type": "execute_result"
    }
   ],
   "source": [
    "df_bsnet140513_clean['fraudstatus'].value_counts()"
   ]
  },
  {
   "cell_type": "markdown",
   "metadata": {},
   "source": [
    "membuat table baru `bsnet140513` versi bersih dengan kolom `fraud` yang menjadi `yes` dan `no` "
   ]
  },
  {
   "cell_type": "code",
   "execution_count": 86,
   "metadata": {},
   "outputs": [
    {
     "data": {
      "text/html": [
       "<div>\n",
       "<style scoped>\n",
       "    .dataframe tbody tr th:only-of-type {\n",
       "        vertical-align: middle;\n",
       "    }\n",
       "\n",
       "    .dataframe tbody tr th {\n",
       "        vertical-align: top;\n",
       "    }\n",
       "\n",
       "    .dataframe thead th {\n",
       "        text-align: right;\n",
       "    }\n",
       "</style>\n",
       "<table border=\"1\" class=\"dataframe\">\n",
       "  <thead>\n",
       "    <tr style=\"text-align: right;\">\n",
       "      <th></th>\n",
       "      <th>source</th>\n",
       "      <th>target</th>\n",
       "      <th>weight</th>\n",
       "      <th>typetrans</th>\n",
       "      <th>fraud</th>\n",
       "    </tr>\n",
       "  </thead>\n",
       "  <tbody>\n",
       "    <tr>\n",
       "      <th>0</th>\n",
       "      <td>C1093826151</td>\n",
       "      <td>M348934600</td>\n",
       "      <td>4.55</td>\n",
       "      <td>es_transportation</td>\n",
       "      <td>No</td>\n",
       "    </tr>\n",
       "    <tr>\n",
       "      <th>1</th>\n",
       "      <td>C352968107</td>\n",
       "      <td>M348934600</td>\n",
       "      <td>39.68</td>\n",
       "      <td>es_transportation</td>\n",
       "      <td>No</td>\n",
       "    </tr>\n",
       "    <tr>\n",
       "      <th>2</th>\n",
       "      <td>C2054744914</td>\n",
       "      <td>M1823072687</td>\n",
       "      <td>26.89</td>\n",
       "      <td>es_transportation</td>\n",
       "      <td>No</td>\n",
       "    </tr>\n",
       "    <tr>\n",
       "      <th>3</th>\n",
       "      <td>C1760612790</td>\n",
       "      <td>M348934600</td>\n",
       "      <td>17.25</td>\n",
       "      <td>es_transportation</td>\n",
       "      <td>No</td>\n",
       "    </tr>\n",
       "    <tr>\n",
       "      <th>4</th>\n",
       "      <td>C757503768</td>\n",
       "      <td>M348934600</td>\n",
       "      <td>35.72</td>\n",
       "      <td>es_transportation</td>\n",
       "      <td>No</td>\n",
       "    </tr>\n",
       "  </tbody>\n",
       "</table>\n",
       "</div>"
      ],
      "text/plain": [
       "        source       target  weight          typetrans fraud\n",
       "0  C1093826151   M348934600    4.55  es_transportation    No\n",
       "1   C352968107   M348934600   39.68  es_transportation    No\n",
       "2  C2054744914  M1823072687   26.89  es_transportation    No\n",
       "3  C1760612790   M348934600   17.25  es_transportation    No\n",
       "4   C757503768   M348934600   35.72  es_transportation    No"
      ]
     },
     "execution_count": 86,
     "metadata": {},
     "output_type": "execute_result"
    }
   ],
   "source": [
    "df_bsnet140513_clean = df_bsnet140513_clean.loc[:,df_bsnet140513_clean.columns!='fraud']\n",
    "df_bsnet140513_clean.columns = ['source', 'target', 'weight', 'typetrans', 'fraud']\n",
    "df_bsnet140513_clean.head()"
   ]
  },
  {
   "cell_type": "markdown",
   "metadata": {},
   "source": [
    "pada table `bs140513` versi bersihnya mengganti penamaan value dari \n",
    "- `gender` dari `M` menjadi `Male` dan `F` menjadi `Female`\n",
    "- `fraud` dari `0` menjadi `no` dan `1` menjadi `yes`"
   ]
  },
  {
   "cell_type": "code",
   "execution_count": 89,
   "metadata": {},
   "outputs": [],
   "source": [
    "df_bs140513_clean.replace({'gender':{'M':'Male', 'F':'Female'}, \n",
    "                           'fraud':{0:'No', 1:'Yes'}}, inplace=True)"
   ]
  },
  {
   "cell_type": "code",
   "execution_count": 90,
   "metadata": {},
   "outputs": [
    {
     "data": {
      "text/html": [
       "<div>\n",
       "<style scoped>\n",
       "    .dataframe tbody tr th:only-of-type {\n",
       "        vertical-align: middle;\n",
       "    }\n",
       "\n",
       "    .dataframe tbody tr th {\n",
       "        vertical-align: top;\n",
       "    }\n",
       "\n",
       "    .dataframe thead th {\n",
       "        text-align: right;\n",
       "    }\n",
       "</style>\n",
       "<table border=\"1\" class=\"dataframe\">\n",
       "  <thead>\n",
       "    <tr style=\"text-align: right;\">\n",
       "      <th></th>\n",
       "      <th>step</th>\n",
       "      <th>customer</th>\n",
       "      <th>age</th>\n",
       "      <th>gender</th>\n",
       "      <th>zipcodeori</th>\n",
       "      <th>merchant</th>\n",
       "      <th>zipmerchant</th>\n",
       "      <th>category</th>\n",
       "      <th>amount</th>\n",
       "      <th>fraud</th>\n",
       "    </tr>\n",
       "  </thead>\n",
       "  <tbody>\n",
       "    <tr>\n",
       "      <th>0</th>\n",
       "      <td>0</td>\n",
       "      <td>C1093826151</td>\n",
       "      <td>4</td>\n",
       "      <td>Male</td>\n",
       "      <td>28007</td>\n",
       "      <td>M348934600</td>\n",
       "      <td>28007</td>\n",
       "      <td>es_transportation</td>\n",
       "      <td>4.55</td>\n",
       "      <td>No</td>\n",
       "    </tr>\n",
       "    <tr>\n",
       "      <th>1</th>\n",
       "      <td>0</td>\n",
       "      <td>C352968107</td>\n",
       "      <td>2</td>\n",
       "      <td>Male</td>\n",
       "      <td>28007</td>\n",
       "      <td>M348934600</td>\n",
       "      <td>28007</td>\n",
       "      <td>es_transportation</td>\n",
       "      <td>39.68</td>\n",
       "      <td>No</td>\n",
       "    </tr>\n",
       "    <tr>\n",
       "      <th>2</th>\n",
       "      <td>0</td>\n",
       "      <td>C2054744914</td>\n",
       "      <td>4</td>\n",
       "      <td>Female</td>\n",
       "      <td>28007</td>\n",
       "      <td>M1823072687</td>\n",
       "      <td>28007</td>\n",
       "      <td>es_transportation</td>\n",
       "      <td>26.89</td>\n",
       "      <td>No</td>\n",
       "    </tr>\n",
       "    <tr>\n",
       "      <th>3</th>\n",
       "      <td>0</td>\n",
       "      <td>C1760612790</td>\n",
       "      <td>3</td>\n",
       "      <td>Male</td>\n",
       "      <td>28007</td>\n",
       "      <td>M348934600</td>\n",
       "      <td>28007</td>\n",
       "      <td>es_transportation</td>\n",
       "      <td>17.25</td>\n",
       "      <td>No</td>\n",
       "    </tr>\n",
       "    <tr>\n",
       "      <th>4</th>\n",
       "      <td>0</td>\n",
       "      <td>C757503768</td>\n",
       "      <td>5</td>\n",
       "      <td>Male</td>\n",
       "      <td>28007</td>\n",
       "      <td>M348934600</td>\n",
       "      <td>28007</td>\n",
       "      <td>es_transportation</td>\n",
       "      <td>35.72</td>\n",
       "      <td>No</td>\n",
       "    </tr>\n",
       "  </tbody>\n",
       "</table>\n",
       "</div>"
      ],
      "text/plain": [
       "   step     customer  age  gender zipcodeori     merchant zipmerchant  \\\n",
       "0     0  C1093826151    4    Male      28007   M348934600       28007   \n",
       "1     0   C352968107    2    Male      28007   M348934600       28007   \n",
       "2     0  C2054744914    4  Female      28007  M1823072687       28007   \n",
       "3     0  C1760612790    3    Male      28007   M348934600       28007   \n",
       "4     0   C757503768    5    Male      28007   M348934600       28007   \n",
       "\n",
       "            category  amount fraud  \n",
       "0  es_transportation    4.55    No  \n",
       "1  es_transportation   39.68    No  \n",
       "2  es_transportation   26.89    No  \n",
       "3  es_transportation   17.25    No  \n",
       "4  es_transportation   35.72    No  "
      ]
     },
     "execution_count": 90,
     "metadata": {},
     "output_type": "execute_result"
    }
   ],
   "source": [
    "df_bs140513_clean.head()"
   ]
  },
  {
   "cell_type": "markdown",
   "metadata": {},
   "source": [
    "Export data ke csv"
   ]
  },
  {
   "cell_type": "code",
   "execution_count": 93,
   "metadata": {},
   "outputs": [],
   "source": [
    "df_bs140513_clean.to_csv('bs140513_clean.csv',index=False, header=False)\n",
    "df_bsnet140513_clean.to_csv('bsNET140513_clean.csv',index=False, header=False)"
   ]
  },
  {
   "cell_type": "markdown",
   "metadata": {},
   "source": [
    "query untuk tabel versi bersihnya\n",
    "\n",
    "CREATE TABLE bsNet140513_clean (\n",
    "\tSource VARCHAR(20),\n",
    "\tTarget VARCHAR(20),\n",
    "\tWeight NUMERIC(10,2),\n",
    "\ttypeTrans VARCHAR(50),\n",
    "\tfraud VARCHAR(4)\n",
    ");\n",
    "\n",
    "CREATE TABLE bs140513_clean (\n",
    "\tstep INTEGER,\n",
    "\tcustomer VARCHAR(20),\n",
    "\tage INTEGER,\n",
    "\tgender VARCHAR(10),\n",
    "\tzipcodeOri VARCHAR(10),\n",
    "\tmerchant VARCHAR(20),\n",
    "\tzipMerchant VARCHAR(10),\n",
    "\tcategory VARCHAR(50),\n",
    "\tamount NUMERIC(10,2),\n",
    "\tfraud VARCHAR(4)\n",
    ");"
   ]
  }
 ],
 "metadata": {
  "kernelspec": {
   "display_name": "base",
   "language": "python",
   "name": "python3"
  },
  "language_info": {
   "codemirror_mode": {
    "name": "ipython",
    "version": 3
   },
   "file_extension": ".py",
   "mimetype": "text/x-python",
   "name": "python",
   "nbconvert_exporter": "python",
   "pygments_lexer": "ipython3",
   "version": "3.9.13"
  }
 },
 "nbformat": 4,
 "nbformat_minor": 2
}
